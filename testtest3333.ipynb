{
 "cells": [
  {
   "cell_type": "code",
   "execution_count": 4,
   "id": "28785473",
   "metadata": {},
   "outputs": [
    {
     "name": "stdout",
     "output_type": "stream",
     "text": [
      "2 3 5 7 11 13 17 19 23 29 31 37 41 43 47 53 59 61 67 71 73 79 83 89 97 "
     ]
    }
   ],
   "source": [
    "# Q.1: Write a program to print a list of prime numbers from first 100 natural numbers\n",
    "for num in range(1,100 +1):  #prime number is always greater than 1 \n",
    "    count=0\n",
    "    for j in range(1,num+1):\n",
    "        if num % j==0:\n",
    "            count=count+1\n",
    "    if count==2:\n",
    "        print(num,end=' ')\n",
    "        count=0"
   ]
  },
  {
   "cell_type": "code",
   "execution_count": 10,
   "id": "2b084b8b",
   "metadata": {},
   "outputs": [
    {
     "name": "stdout",
     "output_type": "stream",
     "text": [
      "enter a Five or more digit interger number:>>443322\n"
     ]
    },
    {
     "data": {
      "text/plain": [
       "['Even', 'Even', 'Odd', 'Odd', 'Even', 'Even']"
      ]
     },
     "execution_count": 10,
     "metadata": {},
     "output_type": "execute_result"
    }
   ],
   "source": [
    "# Q.2: Write a program to to enter a five or more digit integer number and then display your output as specified:\n",
    "# \t\tsample input 1: 12345\n",
    "# \t\tsample output:odd,even,odd,even,odd\n",
    "# \t\tsample input 2: 45637994\n",
    "# \t\tsample output:even,odd,even,odd,odd,odd,odd,even\n",
    "\n",
    "def Int_To_String(n):\n",
    "    data=['Even' if int(x) % 2 == 0  else 'Odd' for x in n ]\n",
    "    return data\n",
    "n=input(\"enter a Five or more digit interger number:>>\")\n",
    "Int_To_String(n)"
   ]
  },
  {
   "cell_type": "code",
   "execution_count": 32,
   "id": "4c8670c6",
   "metadata": {},
   "outputs": [
    {
     "name": "stdout",
     "output_type": "stream",
     "text": [
      "115\n",
      "B or 1 \n"
     ]
    }
   ],
   "source": [
    "# Q.3: Write a program to make a class which accepts an input as a number and the methods of this class will workas:\n",
    "\n",
    "# \tm1(method 1): will return the sum of digits of the number\n",
    "# \tm2: will return  the Ascii character of that number\n",
    "\n",
    "class A:\n",
    "    def __init__(self,number1,number2):\n",
    "        self.number1 = number1\n",
    "        self.number2 = number2\n",
    "    def m1(self):\n",
    "        return self.number1+self.number2\n",
    "    def m2(self):\n",
    "        return f\"{chr(self.number1)} or {chr(self.number2)} \" \n",
    "a=A(66,49)\n",
    "print(a.m1())\n",
    "print(a.m2())\n",
    "    "
   ]
  },
  {
   "cell_type": "code",
   "execution_count": null,
   "id": "06e6fce7",
   "metadata": {},
   "outputs": [],
   "source": [
    "# Q.4: Program to make a GUI interface which accepts name, age and technology as input and stores that information \n",
    "# in the txt file.\n",
    "# and \n",
    "# Q.5: Program to show the above stored information on the window ( i.e  Name, age and technology)"
   ]
  },
  {
   "cell_type": "markdown",
   "id": "364a6586",
   "metadata": {},
   "source": [
    "# Combine both Programs In One Project"
   ]
  },
  {
   "cell_type": "code",
   "execution_count": 37,
   "id": "49ad8e8d",
   "metadata": {},
   "outputs": [],
   "source": [
    "from tkinter import *\n",
    "from tkinter import messagebox\n",
    "win = Tk()\n",
    "\n",
    "# fucntion\n",
    "\n",
    "\n",
    "def create():\n",
    "    with open('file.txt', 'r+') as f:\n",
    "        text = f\"{name.get()} {age.get()} {tech.get()} \\n\"\n",
    "\n",
    "        f.write(text)\n",
    "        f.close()\n",
    "        messagebox.showinfo(\"Mashup\", \"Create Data successfully\")\n",
    "        name.set('')\n",
    "        age.set('')\n",
    "        tech.set('')\n",
    "\n",
    "\n",
    "def show():\n",
    "    newWindow = Toplevel(win)\n",
    "    newWindow.title(\"Show Information\")\n",
    "    newWindow.geometry(\"300x200\")\n",
    "\n",
    "    with open('file.txt', 'r+') as f:\n",
    "        text1 = f.readline()\n",
    "        Label(newWindow,\n",
    "              text=text1, font=('calibre', 10, 'normal')).pack()\n",
    "\n",
    "        f.close()\n",
    "\n",
    "\n",
    "win.geometry(\"300x300\")\n",
    "win.title('MAshup')\n",
    "\n",
    "name = StringVar()\n",
    "name_label = Label(win, text='Username', font=(\n",
    "    'calibre', 10, 'bold')).grid(row=0, column=0)\n",
    "name_entry = Entry(win, textvariable=name, font=(\n",
    "    'calibre', 10, 'normal')).grid(row=0, column=1)\n",
    "age = StringVar()\n",
    "age_label = Label(win, text='Age', font=(\n",
    "    'calibre', 10, 'bold')).grid(row=1, column=0)\n",
    "age_entry = Entry(win, textvariable=age, font=('calibre', 10, 'normal')\n",
    "                  ).grid(row=1, column=1)\n",
    "\n",
    "tech = StringVar()\n",
    "tech_label = Label(win, text='Technology', font=(\n",
    "    'calibre', 10, 'bold')).grid(row=2, column=0)\n",
    "tech_entry = Entry(win, textvariable=tech, font=('calibre', 10, 'normal')\n",
    "                   ).grid(row=2, column=1)\n",
    "\n",
    "bt = Button(win, text=\"Save Info\", command=create).grid(\n",
    "    row=3, column=0, ipadx=10, pady=10)\n",
    "bt1 = Button(win, text=\"Show Info\", command=show).grid(\n",
    "    row=3, column=1, ipadx=10, pady=10)\n",
    "\n",
    "win.mainloop()\n"
   ]
  },
  {
   "cell_type": "code",
   "execution_count": null,
   "id": "a0e101e1",
   "metadata": {},
   "outputs": [],
   "source": []
  }
 ],
 "metadata": {
  "kernelspec": {
   "display_name": "Python 3",
   "language": "python",
   "name": "python3"
  },
  "language_info": {
   "codemirror_mode": {
    "name": "ipython",
    "version": 3
   },
   "file_extension": ".py",
   "mimetype": "text/x-python",
   "name": "python",
   "nbconvert_exporter": "python",
   "pygments_lexer": "ipython3",
   "version": "3.8.8"
  }
 },
 "nbformat": 4,
 "nbformat_minor": 5
}
